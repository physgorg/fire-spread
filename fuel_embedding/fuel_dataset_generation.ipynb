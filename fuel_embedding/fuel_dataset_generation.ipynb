{
 "cells": [
  {
   "cell_type": "code",
   "execution_count": 2,
   "id": "21fc590a-0d02-4193-8e07-6af3178744b8",
   "metadata": {},
   "outputs": [
    {
     "data": {
      "text/html": [
       "\n",
       "            <style>\n",
       "                .geemap-dark {\n",
       "                    --jp-widgets-color: white;\n",
       "                    --jp-widgets-label-color: white;\n",
       "                    --jp-ui-font-color1: white;\n",
       "                    --jp-layout-color2: #454545;\n",
       "                    background-color: #383838;\n",
       "                }\n",
       "\n",
       "                .geemap-dark .jupyter-button {\n",
       "                    --jp-layout-color3: #383838;\n",
       "                }\n",
       "\n",
       "                .geemap-colab {\n",
       "                    background-color: var(--colab-primary-surface-color, white);\n",
       "                }\n",
       "\n",
       "                .geemap-colab .jupyter-button {\n",
       "                    --jp-layout-color3: var(--colab-primary-surface-color, white);\n",
       "                }\n",
       "            </style>\n",
       "            "
      ],
      "text/plain": [
       "<IPython.core.display.HTML object>"
      ]
     },
     "metadata": {},
     "output_type": "display_data"
    }
   ],
   "source": [
    "import ee\n",
    "import geemap\n",
    "import pandas as pd\n",
    "import geopandas as gpd\n",
    "from shapely.geometry import Polygon\n",
    "import matplotlib.pyplot as plt\n",
    "import numpy as np\n",
    "\n",
    "import geopandas as gpd\n",
    "from shapely.geometry import box\n",
    "from datetime import datetime, timedelta\n",
    "\n",
    "import os\n",
    "from os import path as osp\n",
    "from tqdm.auto import tqdm\n",
    "import math\n",
    "\n",
    "import geemap.colormaps as cm\n",
    "\n",
    "# Trigger the authentication flow.\n",
    "ee.Authenticate()\n",
    "\n",
    "# Initialize the library.\n",
    "ee.Initialize(project ='ee-georgethulsey')"
   ]
  },
  {
   "cell_type": "markdown",
   "id": "ed96f765-a4aa-43f5-8b91-bd633599bc4d",
   "metadata": {},
   "source": [
    "#### aux functions"
   ]
  },
  {
   "cell_type": "code",
   "execution_count": 3,
   "id": "52c00c70-7090-43b2-be0a-bb154e4d3c84",
   "metadata": {},
   "outputs": [
    {
     "data": {
      "text/html": [
       "\n",
       "            <style>\n",
       "                .geemap-dark {\n",
       "                    --jp-widgets-color: white;\n",
       "                    --jp-widgets-label-color: white;\n",
       "                    --jp-ui-font-color1: white;\n",
       "                    --jp-layout-color2: #454545;\n",
       "                    background-color: #383838;\n",
       "                }\n",
       "\n",
       "                .geemap-dark .jupyter-button {\n",
       "                    --jp-layout-color3: #383838;\n",
       "                }\n",
       "\n",
       "                .geemap-colab {\n",
       "                    background-color: var(--colab-primary-surface-color, white);\n",
       "                }\n",
       "\n",
       "                .geemap-colab .jupyter-button {\n",
       "                    --jp-layout-color3: var(--colab-primary-surface-color, white);\n",
       "                }\n",
       "            </style>\n",
       "            "
      ],
      "text/plain": [
       "<IPython.core.display.HTML object>"
      ]
     },
     "metadata": {},
     "output_type": "display_data"
    }
   ],
   "source": [
    "def replace_values_with_null(image, values_to_replace):\n",
    "    \"\"\"\n",
    "    Replace specific values in an Earth Engine image with null.\n",
    "    \n",
    "    :param image: ee.Image object\n",
    "    :param values_to_replace: List of values to be replaced with null\n",
    "    :return: ee.Image with specified values replaced by null\n",
    "    \"\"\"\n",
    "    # Create a mask where the image equals any of the values to replace\n",
    "    mask = ee.Image.constant(0)\n",
    "    for value in values_to_replace:\n",
    "        mask = mask.Or(image.eq(value))\n",
    "    \n",
    "    # Invert the mask (1 where we keep values, 0 where we replace with null)\n",
    "    mask = mask.Not()\n",
    "    \n",
    "    # Apply the mask to the image\n",
    "    return image.updateMask(mask)\n",
    "\n",
    "def feature_collection_to_arrays(feature_collection,num = 5):\n",
    "    first_collections = feature_collection.toList().getInfo()\n",
    "    results = {}\n",
    "    properties_to_ignore = ['system:index','date','geometry','detection']\n",
    "    for feature in tqdm(first_collections):\n",
    "        \n",
    "        index = feature['properties']\n",
    "        results[feature['id']] = {}\n",
    "\n",
    "        properties = list(feature['properties'].keys())\n",
    "        for prop in properties:\n",
    "            if prop in properties_to_ignore:\n",
    "                continue\n",
    "            data = np.array(feature['properties'][prop])\n",
    "            results[feature['id']][prop] = data\n",
    "\n",
    "    return results   \n",
    "\n",
    "def plot_dict_grid(info):\n",
    "    n = len(info)\n",
    "    \n",
    "    # Calculate grid dimensions\n",
    "    cols = math.ceil(math.sqrt(n))\n",
    "    rows = math.ceil(n / cols)\n",
    "    \n",
    "    # Create subplots\n",
    "    fig, axs = plt.subplots(rows, cols, figsize=(4*cols, 4*rows))\n",
    "    fig.suptitle('Grid Plot of Dictionary Items', fontsize=16)\n",
    "    \n",
    "    # If there's only one subplot, wrap it in a list for consistency\n",
    "    if n == 1:\n",
    "        axs = [axs]\n",
    "    else:\n",
    "        axs = axs.flatten()\n",
    "    \n",
    "    # Plot each item\n",
    "    for ax, (key, value) in zip(axs, info.items()):\n",
    "        im = ax.imshow(value, cmap='viridis')\n",
    "        ax.set_title(key)\n",
    "        # ax.axis('off')\n",
    "        fig.colorbar(im, ax=ax, fraction=0.046, pad=0.04)\n",
    "    \n",
    "    # Remove any unused subplots\n",
    "    for i in range(n, len(axs)):\n",
    "        fig.delaxes(axs[i])\n",
    "    \n",
    "    plt.tight_layout()\n",
    "    plt.show()"
   ]
  },
  {
   "cell_type": "markdown",
   "id": "6163f81e-7931-498b-b68d-b141fc15a4a8",
   "metadata": {},
   "source": [
    "### Load FBFM image from Google Earth Engine"
   ]
  },
  {
   "cell_type": "markdown",
   "id": "e58d5ec2-40c6-415f-8eb5-eb9d2c4058b3",
   "metadata": {},
   "source": [
    "This asset must be uploaded via the GEE command line interface. "
   ]
  },
  {
   "cell_type": "code",
   "execution_count": 4,
   "id": "5f9b83c3-01ef-425a-83bd-bf93284e6248",
   "metadata": {},
   "outputs": [
    {
     "data": {
      "text/html": [
       "\n",
       "            <style>\n",
       "                .geemap-dark {\n",
       "                    --jp-widgets-color: white;\n",
       "                    --jp-widgets-label-color: white;\n",
       "                    --jp-ui-font-color1: white;\n",
       "                    --jp-layout-color2: #454545;\n",
       "                    background-color: #383838;\n",
       "                }\n",
       "\n",
       "                .geemap-dark .jupyter-button {\n",
       "                    --jp-layout-color3: #383838;\n",
       "                }\n",
       "\n",
       "                .geemap-colab {\n",
       "                    background-color: var(--colab-primary-surface-color, white);\n",
       "                }\n",
       "\n",
       "                .geemap-colab .jupyter-button {\n",
       "                    --jp-layout-color3: var(--colab-primary-surface-color, white);\n",
       "                }\n",
       "            </style>\n",
       "            "
      ],
      "text/plain": [
       "<IPython.core.display.HTML object>"
      ]
     },
     "metadata": {},
     "output_type": "display_data"
    }
   ],
   "source": [
    "landfire = ee.Image(\"projects/ee-georgethulsey/assets/landfire/landfire2019\").rename('fbfm')\n",
    "landfire = replace_values_with_null(landfire,[32767,-32768,-9999])"
   ]
  },
  {
   "cell_type": "code",
   "execution_count": 8,
   "id": "e61206b0-3065-47bd-9238-e7cb9186eaac",
   "metadata": {},
   "outputs": [
    {
     "data": {
      "text/html": [
       "\n",
       "            <style>\n",
       "                .geemap-dark {\n",
       "                    --jp-widgets-color: white;\n",
       "                    --jp-widgets-label-color: white;\n",
       "                    --jp-ui-font-color1: white;\n",
       "                    --jp-layout-color2: #454545;\n",
       "                    background-color: #383838;\n",
       "                }\n",
       "\n",
       "                .geemap-dark .jupyter-button {\n",
       "                    --jp-layout-color3: #383838;\n",
       "                }\n",
       "\n",
       "                .geemap-colab {\n",
       "                    background-color: var(--colab-primary-surface-color, white);\n",
       "                }\n",
       "\n",
       "                .geemap-colab .jupyter-button {\n",
       "                    --jp-layout-color3: var(--colab-primary-surface-color, white);\n",
       "                }\n",
       "            </style>\n",
       "            "
      ],
      "text/plain": [
       "<IPython.core.display.HTML object>"
      ]
     },
     "metadata": {},
     "output_type": "display_data"
    }
   ],
   "source": [
    "lf_meta = pd.read_csv('fuel_autoencoder/landfire_metadata.csv')\n",
    "lf_meta.drop(index = 0,inplace= True)\n",
    "\n",
    "landfire_fuel_classes = dict(zip(lf_meta['VALUE'],lf_meta['FBFM40']))"
   ]
  },
  {
   "cell_type": "code",
   "execution_count": 9,
   "id": "bf385047-c5c3-4e59-92fe-ad01ac66f2b2",
   "metadata": {},
   "outputs": [
    {
     "data": {
      "text/html": [
       "\n",
       "            <style>\n",
       "                .geemap-dark {\n",
       "                    --jp-widgets-color: white;\n",
       "                    --jp-widgets-label-color: white;\n",
       "                    --jp-ui-font-color1: white;\n",
       "                    --jp-layout-color2: #454545;\n",
       "                    background-color: #383838;\n",
       "                }\n",
       "\n",
       "                .geemap-dark .jupyter-button {\n",
       "                    --jp-layout-color3: #383838;\n",
       "                }\n",
       "\n",
       "                .geemap-colab {\n",
       "                    background-color: var(--colab-primary-surface-color, white);\n",
       "                }\n",
       "\n",
       "                .geemap-colab .jupyter-button {\n",
       "                    --jp-layout-color3: var(--colab-primary-surface-color, white);\n",
       "                }\n",
       "            </style>\n",
       "            "
      ],
      "text/plain": [
       "<IPython.core.display.HTML object>"
      ]
     },
     "metadata": {},
     "output_type": "display_data"
    },
    {
     "data": {
      "application/vnd.jupyter.widget-view+json": {
       "model_id": "ddd1b0243c3f4ba298ae54e4ce838409",
       "version_major": 2,
       "version_minor": 0
      },
      "text/plain": [
       "Map(center=[39, -120.5], controls=(WidgetControl(options=['position', 'transparent_bg'], widget=SearchDataGUI(…"
      ]
     },
     "execution_count": 9,
     "metadata": {},
     "output_type": "execute_result"
    }
   ],
   "source": [
    "Map = geemap.Map(center=[39, -120.5], zoom=7)\n",
    "palette = cm.palettes.dem\n",
    "viz = {'min':91,'max':204,'palette':palette}\n",
    "Map.addLayer(landfire,viz,'FBFM')\n",
    "\n",
    "Map"
   ]
  },
  {
   "cell_type": "markdown",
   "id": "34973a17-954d-45e0-a409-2f8b241fcc9b",
   "metadata": {},
   "source": [
    "### Prepare export functions"
   ]
  },
  {
   "cell_type": "code",
   "execution_count": 10,
   "id": "e7863cc6-be1b-4303-8838-faa2e6e3b7e0",
   "metadata": {},
   "outputs": [
    {
     "data": {
      "text/html": [
       "\n",
       "            <style>\n",
       "                .geemap-dark {\n",
       "                    --jp-widgets-color: white;\n",
       "                    --jp-widgets-label-color: white;\n",
       "                    --jp-ui-font-color1: white;\n",
       "                    --jp-layout-color2: #454545;\n",
       "                    background-color: #383838;\n",
       "                }\n",
       "\n",
       "                .geemap-dark .jupyter-button {\n",
       "                    --jp-layout-color3: #383838;\n",
       "                }\n",
       "\n",
       "                .geemap-colab {\n",
       "                    background-color: var(--colab-primary-surface-color, white);\n",
       "                }\n",
       "\n",
       "                .geemap-colab .jupyter-button {\n",
       "                    --jp-layout-color3: var(--colab-primary-surface-color, white);\n",
       "                }\n",
       "            </style>\n",
       "            "
      ],
      "text/plain": [
       "<IPython.core.display.HTML object>"
      ]
     },
     "metadata": {},
     "output_type": "display_data"
    }
   ],
   "source": [
    "def _verify_feature_collection(\n",
    "    feature_collection\n",
    "):\n",
    "    \"\"\"Verifies the feature collection is valid.\n",
    "    \n",
    "    If the feature collection is invalid, resets the feature collection.\n",
    "    \n",
    "    Args:\n",
    "    feature_collection: An EE feature collection.\n",
    "    \n",
    "    Returns:\n",
    "    `(feature_collection, size)` a tuple of the verified feature collection and\n",
    "    its size.\n",
    "    \"\"\"\n",
    "    try:\n",
    "        size = int(feature_collection.size().getInfo())\n",
    "    except ee.EEException:\n",
    "        # Reset the feature collection\n",
    "        feature_collection = ee.FeatureCollection([])\n",
    "        size = 0\n",
    "    return feature_collection, size\n",
    "\n",
    "def extract_samples(\n",
    "    image,\n",
    "    geometry,\n",
    "    sampling_limit_per_call=60,\n",
    "    resolution=30,\n",
    "    seed=123,\n",
    "    numPixels = 8200, # default 16^2*32 = 8192 < 8200\n",
    "    n_samplings = 100,\n",
    "    mode = 'train'\n",
    "):\n",
    "    \"\"\"\n",
    "    Samples an EE image.\n",
    "\n",
    "    Args:\n",
    "        image: The EE image to extract samples from.\n",
    "        geometry: The EE geometry over which to sample.\n",
    "        sampling_limit_per_call: The limit on the size of EE calls. Can be used to\n",
    "          avoid memory errors on the EE server side. To disable this limit, set it\n",
    "          to `detection_count`.\n",
    "        resolution: The resolution in meters at which to scale.\n",
    "        seed: The number used to seed the random number generator. Used when\n",
    "          sampling less than the total number of pixels.\n",
    "\n",
    "    Returns:\n",
    "        An EE feature collection with all the extracted samples.\n",
    "    \"\"\"\n",
    "    feature_collection = ee.FeatureCollection([])\n",
    "    num_per_call = sampling_limit_per_call \n",
    "\n",
    "    # The sequence of sampling calls is deterministic, so calling stratifiedSample\n",
    "    # multiple times never returns samples with the same center pixel.\n",
    "    for _ in range(math.ceil(n_samplings / num_per_call)):\n",
    "        samples = image.sample(\n",
    "            region=geometry,\n",
    "            numPixels=numPixels,\n",
    "            scale=resolution,\n",
    "            seed=seed,\n",
    "        )\n",
    "        \n",
    "        feature_collection = feature_collection.merge(samples)\n",
    "    \n",
    "    # Add overall geometry as metadata to the feature collection\n",
    "    feature_collection = feature_collection.set('overall_geometry', geometry)\n",
    "    \n",
    "    return feature_collection"
   ]
  },
  {
   "cell_type": "code",
   "execution_count": 11,
   "id": "4d571896-9ab2-4f7a-87e8-a43d3276d26c",
   "metadata": {},
   "outputs": [
    {
     "data": {
      "text/html": [
       "\n",
       "            <style>\n",
       "                .geemap-dark {\n",
       "                    --jp-widgets-color: white;\n",
       "                    --jp-widgets-label-color: white;\n",
       "                    --jp-ui-font-color1: white;\n",
       "                    --jp-layout-color2: #454545;\n",
       "                    background-color: #383838;\n",
       "                }\n",
       "\n",
       "                .geemap-dark .jupyter-button {\n",
       "                    --jp-layout-color3: #383838;\n",
       "                }\n",
       "\n",
       "                .geemap-colab {\n",
       "                    background-color: var(--colab-primary-surface-color, white);\n",
       "                }\n",
       "\n",
       "                .geemap-colab .jupyter-button {\n",
       "                    --jp-layout-color3: var(--colab-primary-surface-color, white);\n",
       "                }\n",
       "            </style>\n",
       "            "
      ],
      "text/plain": [
       "<IPython.core.display.HTML object>"
      ]
     },
     "metadata": {},
     "output_type": "display_data"
    }
   ],
   "source": [
    "def _export_dataset(\n",
    "    bucket,\n",
    "    folder,\n",
    "    prefix,\n",
    "    geometry,\n",
    "    kernel_size,\n",
    "    sampling_scale,\n",
    "    num_samples_per_file,\n",
    "    n_samplings\n",
    "):\n",
    "    \"\"\"Exports the dataset TFRecord files for wildfire risk assessment.\n",
    "    \n",
    "    Args:\n",
    "    bucket: Google Cloud bucket\n",
    "    folder: Folder to which to export the TFRecords.\n",
    "    prefix: Export file name prefix.\n",
    "    start_date: Start date for the EE data to export.\n",
    "    start_days: Start day of each time chunk to export.\n",
    "    geometry: EE geometry from which to export the data.\n",
    "    kernel_size: Size of the exported tiles (square).\n",
    "    sampling_scale: Resolution at which to export the data (in meters).\n",
    "    num_samples_per_file: Approximate number of samples to save per TFRecord\n",
    "      file.\n",
    "    \"\"\"\n",
    "    #########################################################\n",
    "    def _verify_and_export_feature_collection(\n",
    "      num_samples_per_export,\n",
    "      feature_collection,\n",
    "      file_count,\n",
    "      features,\n",
    "      mode = 'train',\n",
    "    ):\n",
    "        \"\"\"Wraps the verification and export of the feature collection.\n",
    "        \n",
    "        Verifies the size of the feature collection and triggers the export when\n",
    "        it is larger than `num_samples_per_export`. Resets the feature collection\n",
    "        and increments the file count at each export.\n",
    "        \n",
    "        Args:\n",
    "          num_samples_per_export: Approximate number of samples per export.\n",
    "          feature_collection: The EE feature collection to export.\n",
    "          file_count: The TFRecord file count for naming the files.\n",
    "          features: Names of the features to export.\n",
    "        \n",
    "        Returns:\n",
    "          `(feature_collection, file_count)` tuple of the current feature collection\n",
    "            and file count.\n",
    "        \"\"\"\n",
    "        feature_collection, size_count = _verify_feature_collection(\n",
    "            feature_collection)\n",
    "        if size_count > num_samples_per_export:\n",
    "          ee_utils.export_feature_collection(\n",
    "              feature_collection,\n",
    "              description=prefix + '_{:03d}'.format(file_count)+'_'+mode,\n",
    "              bucket=bucket,\n",
    "              folder=folder,\n",
    "              bands=features,\n",
    "          )\n",
    "          file_count += 1\n",
    "          feature_collection = ee.FeatureCollection([])\n",
    "        return feature_collection, file_count\n",
    "    ############################################################\n",
    "\n",
    "    sampling_limit_per_call = 60\n",
    "    \n",
    "    file_count = 0\n",
    "    feature_collection = ee.FeatureCollection([])\n",
    "\n",
    "    image_list = [landfire]\n",
    "    features = ['fbfm']\n",
    "\n",
    "    arrays = ee_utils.convert_features_to_arrays(image_list, kernel_size)\n",
    "\n",
    "    for (mode,factor) in [('train',1),('test',0.3),('val',0.3)]:\n",
    "        print(\"Sampling in mode\",mode)\n",
    "        samples = extract_samples(\n",
    "            arrays,\n",
    "            geometry,\n",
    "            sampling_limit_per_call=sampling_limit_per_call,\n",
    "            resolution=30,\n",
    "            seed=123,\n",
    "            numPixels = 8200, # default 16^2*32 = 8192 < 8200\n",
    "            n_samplings = int(n_samplings*factor),\n",
    "            mode = mode# number of numpixel samplings\n",
    "            \n",
    "        )\n",
    "        print('samples extracted')\n",
    "        feature_collection = feature_collection.merge(samples)\n",
    "        \n",
    "        feature_collection, file_count = _verify_and_export_feature_collection(\n",
    "          num_samples_per_file, feature_collection, file_count, features,mode = mode)\n",
    "        # Export the remaining feature collection\n",
    "        _verify_and_export_feature_collection(0, feature_collection, file_count,\n",
    "                                        features,mode = mode)"
   ]
  },
  {
   "cell_type": "markdown",
   "id": "48db20f1-4085-462a-9f85-36bc37c6f795",
   "metadata": {},
   "source": [
    "### Perform dataset export (currently to a single TFRecord file"
   ]
  },
  {
   "cell_type": "code",
   "execution_count": 144,
   "id": "5ef95a91-5a66-47af-88b4-40926e8b7a1f",
   "metadata": {},
   "outputs": [
    {
     "data": {
      "text/html": [
       "\n",
       "            <style>\n",
       "                .geemap-dark {\n",
       "                    --jp-widgets-color: white;\n",
       "                    --jp-widgets-label-color: white;\n",
       "                    --jp-ui-font-color1: white;\n",
       "                    --jp-layout-color2: #454545;\n",
       "                    background-color: #383838;\n",
       "                }\n",
       "\n",
       "                .geemap-dark .jupyter-button {\n",
       "                    --jp-layout-color3: #383838;\n",
       "                }\n",
       "\n",
       "                .geemap-colab {\n",
       "                    background-color: var(--colab-primary-surface-color, white);\n",
       "                }\n",
       "\n",
       "                .geemap-colab .jupyter-button {\n",
       "                    --jp-layout-color3: var(--colab-primary-surface-color, white);\n",
       "                }\n",
       "            </style>\n",
       "            "
      ],
      "text/plain": [
       "<IPython.core.display.HTML object>"
      ]
     },
     "metadata": {},
     "output_type": "display_data"
    }
   ],
   "source": [
    "oregon = ee.Geometry.Rectangle([-124.6, 41.9, -116.4, 46.3])\n",
    "conus_west = ee.Geometry.Rectangle([-125, 26, -100, 49])"
   ]
  },
  {
   "cell_type": "code",
   "execution_count": 145,
   "id": "f5ef0042-2d9c-4625-a75e-9a351d60835e",
   "metadata": {},
   "outputs": [
    {
     "data": {
      "text/html": [
       "\n",
       "            <style>\n",
       "                .geemap-dark {\n",
       "                    --jp-widgets-color: white;\n",
       "                    --jp-widgets-label-color: white;\n",
       "                    --jp-ui-font-color1: white;\n",
       "                    --jp-layout-color2: #454545;\n",
       "                    background-color: #383838;\n",
       "                }\n",
       "\n",
       "                .geemap-dark .jupyter-button {\n",
       "                    --jp-layout-color3: #383838;\n",
       "                }\n",
       "\n",
       "                .geemap-colab {\n",
       "                    background-color: var(--colab-primary-surface-color, white);\n",
       "                }\n",
       "\n",
       "                .geemap-colab .jupyter-button {\n",
       "                    --jp-layout-color3: var(--colab-primary-surface-color, white);\n",
       "                }\n",
       "            </style>\n",
       "            "
      ],
      "text/plain": [
       "<IPython.core.display.HTML object>"
      ]
     },
     "metadata": {},
     "output_type": "display_data"
    }
   ],
   "source": [
    "bucket = 'scott_burgan_fuel_data'\n",
    "folder = 'fbfm_conus_west'\n",
    "prefix = 'fbfm40'\n",
    "geometry = conus_west\n",
    "kernel_size = 16\n",
    "sampling_scale = 30\n",
    "num_samples_per_file = 64\n",
    "n_samplings = 10000"
   ]
  },
  {
   "cell_type": "code",
   "execution_count": 146,
   "id": "58c8f63b-8132-4bbc-bded-531a8d47d431",
   "metadata": {},
   "outputs": [
    {
     "data": {
      "text/html": [
       "\n",
       "            <style>\n",
       "                .geemap-dark {\n",
       "                    --jp-widgets-color: white;\n",
       "                    --jp-widgets-label-color: white;\n",
       "                    --jp-ui-font-color1: white;\n",
       "                    --jp-layout-color2: #454545;\n",
       "                    background-color: #383838;\n",
       "                }\n",
       "\n",
       "                .geemap-dark .jupyter-button {\n",
       "                    --jp-layout-color3: #383838;\n",
       "                }\n",
       "\n",
       "                .geemap-colab {\n",
       "                    background-color: var(--colab-primary-surface-color, white);\n",
       "                }\n",
       "\n",
       "                .geemap-colab .jupyter-button {\n",
       "                    --jp-layout-color3: var(--colab-primary-surface-color, white);\n",
       "                }\n",
       "            </style>\n",
       "            "
      ],
      "text/plain": [
       "<IPython.core.display.HTML object>"
      ]
     },
     "metadata": {},
     "output_type": "display_data"
    },
    {
     "name": "stdout",
     "output_type": "stream",
     "text": [
      "Sampling in mode train\n",
      "samples extracted\n",
      "Sampling in mode test\n",
      "samples extracted\n",
      "Sampling in mode val\n",
      "samples extracted\n"
     ]
    }
   ],
   "source": [
    "_export_dataset(bucket,folder,prefix,geometry,kernel_size,sampling_scale,num_samples_per_file,n_samplings)"
   ]
  }
 ],
 "metadata": {
  "kernelspec": {
   "display_name": "Python 3 (ipykernel)",
   "language": "python",
   "name": "python3"
  },
  "language_info": {
   "codemirror_mode": {
    "name": "ipython",
    "version": 3
   },
   "file_extension": ".py",
   "mimetype": "text/x-python",
   "name": "python",
   "nbconvert_exporter": "python",
   "pygments_lexer": "ipython3",
   "version": "3.12.4"
  }
 },
 "nbformat": 4,
 "nbformat_minor": 5
}
